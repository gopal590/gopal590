{
  "nbformat": 4,
  "nbformat_minor": 0,
  "metadata": {
    "colab": {
      "provenance": [],
      "authorship_tag": "ABX9TyMpogW09Fg8cG5CVsNsS6bj",
      "include_colab_link": true
    },
    "kernelspec": {
      "name": "python3",
      "display_name": "Python 3"
    },
    "language_info": {
      "name": "python"
    }
  },
  "cells": [
    {
      "cell_type": "markdown",
      "metadata": {
        "id": "view-in-github",
        "colab_type": "text"
      },
      "source": [
        "<a href=\"https://colab.research.google.com/github/gopal590/gopal590/blob/main/weather_model.ipynb\" target=\"_parent\"><img src=\"https://colab.research.google.com/assets/colab-badge.svg\" alt=\"Open In Colab\"/></a>"
      ]
    },
    {
      "cell_type": "code",
      "source": [],
      "metadata": {
        "id": "Oukio7K78VIi"
      },
      "execution_count": null,
      "outputs": []
    },
    {
      "cell_type": "code",
      "execution_count": 4,
      "metadata": {
        "id": "_ZynWvJb4UXg",
        "colab": {
          "base_uri": "https://localhost:8080/"
        },
        "outputId": "8a786628-290d-4807-9e6a-ab4367f3691b"
      },
      "outputs": [
        {
          "output_type": "stream",
          "name": "stdout",
          "text": [
            "Enter mode ('hardcoded', 'input', or 'file'): file\n",
            "Error: spam.txt not found.\n"
          ]
        }
      ],
      "source": [
        "def quadratic_solution(a, b, time, c):\n",
        "    discriminant = b*2 - 4*a(c - time)\n",
        "    sol1 = (-b - discriminant**0.5) / (2*a)\n",
        "    sol2 = (-b + discriminant**0.5) / (2*a)\n",
        "    return sol1, sol2\n",
        "\n",
        "def weather_model(mode):\n",
        "    if mode == \"hardcoded\":\n",
        "        a, b, c = 0.5, -2.0, 20.0\n",
        "        for time in range(1, 4):\n",
        "            temp = quadratic_solution(a, b, time, c)[1]\n",
        "            print(f\"Temperature at time {time}: {temp:.2f} degrees\")\n",
        "    elif mode == \"input\":\n",
        "        a = float(input(\"Enter coefficient a: \"))\n",
        "        b = float(input(\"Enter coefficient b: \"))\n",
        "        c = float(input(\"Enter initial temperature: \"))\n",
        "        for time in range(1, 4):\n",
        "            temp = quadratic_solution(a, b, time, c)[1]\n",
        "            print(f\"Temperature at time {time}: {temp:.2f} degrees\")\n",
        "    elif mode == \"file\":\n",
        "        try:\n",
        "            with open('spam.txt', 'r') as file:\n",
        "                for set_num, line in enumerate(file):\n",
        "                    try:\n",
        "                        a, b, c = [float(value) for value in line.strip().split() if value]\n",
        "                        print(f\"Weather simulation for set {set_num + 1}:\")\n",
        "                        for time in range(1, 4):\n",
        "                            temp = quadratic_solution(a, b, time, c)[1]\n",
        "                            print(f\"  Temperature at time {time}: {temp:.2f} degrees\")\n",
        "                    except ValueError:\n",
        "                        print(f\"Warning: Invalid data on line {set_num + 1}. Skipping.\")\n",
        "        except FileNotFoundError:\n",
        "            print(\"Error: spam.txt not found.\")\n",
        "\n",
        "# Choose the mode of operation\n",
        "mode = input(\"Enter mode ('hardcoded', 'input', or 'file'): \").lower()\n",
        "weather_model(mode)"
      ]
    }
  ]
}